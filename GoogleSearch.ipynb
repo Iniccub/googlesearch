{
 "cells": [
  {
   "cell_type": "code",
   "execution_count": 1,
   "id": "5e9883e5-7334-4118-90be-271fe4817919",
   "metadata": {},
   "outputs": [],
   "source": [
    "import requests\n",
    "import json\n",
    "from reportlab.lib.pagesizes import A4\n",
    "from reportlab.pdfgen import canvas\n",
    "from reportlab.lib.units import cm\n",
    "import textwrap\n",
    "import os"
   ]
  },
  {
   "cell_type": "code",
   "execution_count": 9,
   "id": "b147e6e5-6ae0-4710-859f-ca7a901e8758",
   "metadata": {
    "scrolled": true
   },
   "outputs": [
    {
     "name": "stdin",
     "output_type": "stream",
     "text": [
      "Digite sua pesquisa:  Cenário das escolas particulares em belo horizonte\n",
      "Quantos links deseja retornar (1-10)?  10\n"
     ]
    },
    {
     "name": "stdout",
     "output_type": "stream",
     "text": [
      "1. https://www.fiemg.com.br/unidades/escola-sesi-bh-barreiro/\n",
      "2. https://ufmg.br/comunicacao/noticias/escolas-particulares-vendem-50-mais-ultraprocessados-do-que-alimentos-saudaveis\n",
      "3. https://www.fiemg.com.br/unidades/escola-sesi-bh-mariza-araujo/\n",
      "4. https://www.blog.schooladvisor.com.br/guia-escolas-belo-horizonte\n",
      "5. https://rmmg.org/artigo/detalhes/3924\n",
      "6. https://periodicos.ufba.br/index.php/entreideias/article/download/49282/27336/199565\n",
      "7. https://www.scielo.br/j/csp/a/7VPKvCBcmYPkBGyYwtHR58d/?format=pdf\n",
      "8. https://repositorio.ufmg.br/handle/1843/38690\n",
      "9. https://preprints.scielo.org/index.php/scielo/preprint/download/10125/18644/19264\n",
      "10. https://www.brasildefato.com.br/podcast/central-do-brasil/2022/06/07/sem-moradia-e-trabalho-populacao-em-situacao-de-rua-sofre-com-a-falta-de-politicas-publicas/\n"
     ]
    }
   ],
   "source": [
    "# Definição das variáveis\n",
    "API_KEY = ('api_key')\n",
    "SEARCH_ENGINE_ID = ('id')\n",
    "SEARCH_QUERY = input('Digite sua pesquisa: ')\n",
    "NUM_RESULTS = int(input('Quantos links deseja retornar (1-10)? '))\n",
    "\n",
    "if NUM_RESULTS < 1 or NUM_RESULTS > 10:\n",
    "        print('Por favor, insira um número entre 1 e 10')\n",
    "else:\n",
    "    # URL da API do Google Custom Search\n",
    "    url = 'https://www.googleapis.com/customsearch/v1'\n",
    "\n",
    "    # Parâmetros da requisição\n",
    "    params = {\n",
    "        'q': SEARCH_QUERY,\n",
    "        'key': API_KEY,\n",
    "        'cx': SEARCH_ENGINE_ID,\n",
    "        'num': NUM_RESULTS # Define o número de resultados a serem retornados\n",
    "    }\n",
    "    \n",
    "    # Faz a requisição à API\n",
    "    response = requests.get(url, params=params)\n",
    "    \n",
    "    # Verifica se a requisição foi bem sucedida\n",
    "    if response.status_code == 200:\n",
    "        results = response.json().get('items', []) # Obtém os items ou uma lista vazia se não houver resultados\n",
    "\n",
    "        if results:\n",
    "            for i, item in enumerate(results, start=1):\n",
    "                link = item.get('link', 'link não disponível') # Obtém o link ou uma mensagem padrão\n",
    "                print(f'{i}. {link}')\n",
    "        else:\n",
    "            print('Nenhum resultado encontrado')\n",
    "    else:\n",
    "        print(f'Erro na requisição: {response.status_code}')"
   ]
  },
  {
   "cell_type": "code",
   "execution_count": null,
   "id": "dd726630-caf1-42e0-8c25-7118a43fab5c",
   "metadata": {},
   "outputs": [],
   "source": []
  }
 ],
 "metadata": {
  "kernelspec": {
   "display_name": "Python 3 (ipykernel)",
   "language": "python",
   "name": "python3"
  },
  "language_info": {
   "codemirror_mode": {
    "name": "ipython",
    "version": 3
   },
   "file_extension": ".py",
   "mimetype": "text/x-python",
   "name": "python",
   "nbconvert_exporter": "python",
   "pygments_lexer": "ipython3",
   "version": "3.11.7"
  }
 },
 "nbformat": 4,
 "nbformat_minor": 5
}
