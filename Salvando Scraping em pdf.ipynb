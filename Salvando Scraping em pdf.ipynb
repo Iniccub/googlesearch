{
 "cells": [
  {
   "cell_type": "code",
   "execution_count": 14,
   "id": "a36ffab5-3ed7-44f1-b48a-44316d81ec1f",
   "metadata": {},
   "outputs": [
    {
     "name": "stdin",
     "output_type": "stream",
     "text": [
      "Digite o link:  https://www.blog.schooladvisor.com.br/guia-escolas-belo-horizonte\n"
     ]
    },
    {
     "name": "stdout",
     "output_type": "stream",
     "text": [
      "PDF gerado com sucesso.\n"
     ]
    }
   ],
   "source": [
    "import re\n",
    "import requests\n",
    "from bs4 import BeautifulSoup\n",
    "from reportlab.lib.pagesizes import A4\n",
    "from reportlab.lib.styles import getSampleStyleSheet\n",
    "from reportlab.platypus import SimpleDocTemplate, Paragraph\n",
    "\n",
    "def scraping_do_texto(link):\n",
    "    # Função que realiza o scraping do texto a partir de um link fornecido.\n",
    "    headers = {\n",
    "        'User-Agent': 'Mozilla/5.0 (Windows NT 10.0; Win64; x64) AppleWebKit/537.36 (KHTML, like Gecko) Chrome/126.0.0.0 Safari/537.36'\n",
    "    }\n",
    "    requisicao = requests.get(link, headers=headers)\n",
    "    \n",
    "    if requisicao.status_code == 200:\n",
    "        site = BeautifulSoup(requisicao.text, 'html.parser')\n",
    "        paragrafos = site.find_all('p')\n",
    "        texto = ' '.join([paragrafo.get_text() for paragrafo in paragrafos])\n",
    "        return texto\n",
    "    else:\n",
    "        print(f\"Erro ao acessar o site: {requisicao.status_code}\")\n",
    "        return None\n",
    "\n",
    "def estruturar_texto(texto):\n",
    "    # Função que estrutura o texto em capítulos e parágrafos.\n",
    "    # Separar capítulos\n",
    "    capitulos = re.split(r'\\*\\*(.*?)\\*\\*', texto)\n",
    "    estrutura = []\n",
    "    for i in range(0, len(capitulos), 2):\n",
    "        pre_capitulo = capitulos[i].strip()\n",
    "        if i + 1 < len(capitulos):\n",
    "            titulo_capitulo = capitulos[i + 1].strip()\n",
    "            if titulo_capitulo:\n",
    "                estrutura.append(f\"\\nCapítulo: {titulo_capitulo}\")\n",
    "        else:\n",
    "            titulo_capitulo = \"\"\n",
    "        # Separar parágrafos dentro do capítulo\n",
    "        paragrafos = re.split(r'###', pre_capitulo)\n",
    "        for paragrafo in paragrafos:\n",
    "            paragrafo = paragrafo.strip()\n",
    "            if paragrafo:\n",
    "                estrutura.append(f\"\\nParágrafo:\\n{paragrafo}\")\n",
    "    return '\\n'.join(estrutura)\n",
    "\n",
    "def salvar_como_pdf(texto, nome_arquivo):\n",
    "    # Função que salva o texto estruturado em um arquivo PDF.\n",
    "    # Configurar o documento PDF\n",
    "    pdf = SimpleDocTemplate(nome_arquivo, pagesize=A4)\n",
    "    estilos = getSampleStyleSheet()\n",
    "    elementos = []\n",
    "\n",
    "    # Adicionar cada linha do texto como um parágrafo\n",
    "    for linha in texto.split('\\n'):\n",
    "        if linha.strip():  # Ignorar linhas vazias\n",
    "            paragrafo = Paragraph(linha, estilos['BodyText'])\n",
    "            elementos.append(paragrafo)\n",
    "\n",
    "    # Construir o PDF\n",
    "    pdf.build(elementos)\n",
    "\n",
    "def main():\n",
    "    link = input('Digite o link: ')\n",
    "    texto = scraping_do_texto(link)\n",
    "    if texto:\n",
    "        texto_estruturado = estruturar_texto(texto)\n",
    "        salvar_como_pdf(texto_estruturado, 'texto_estruturado.pdf')\n",
    "        print('PDF gerado com sucesso.')\n",
    "    else:\n",
    "        print('Não foi possível obter o texto do link fornecido.')\n",
    "\n",
    "if __name__ == '__main__':\n",
    "    main()"
   ]
  },
  {
   "cell_type": "code",
   "execution_count": null,
   "id": "0f8ebc49-6def-47d4-a9c2-c48f33732f13",
   "metadata": {},
   "outputs": [],
   "source": []
  }
 ],
 "metadata": {
  "kernelspec": {
   "display_name": "Python 3 (ipykernel)",
   "language": "python",
   "name": "python3"
  },
  "language_info": {
   "codemirror_mode": {
    "name": "ipython",
    "version": 3
   },
   "file_extension": ".py",
   "mimetype": "text/x-python",
   "name": "python",
   "nbconvert_exporter": "python",
   "pygments_lexer": "ipython3",
   "version": "3.11.7"
  }
 },
 "nbformat": 4,
 "nbformat_minor": 5
}
